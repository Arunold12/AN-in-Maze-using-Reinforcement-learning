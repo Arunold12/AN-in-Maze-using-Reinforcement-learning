{
 "cells": [
  {
   "cell_type": "code",
   "execution_count": 1,
   "id": "276893c6",
   "metadata": {},
   "outputs": [
    {
     "name": "stdout",
     "output_type": "stream",
     "text": [
      "Path taken by the agent: [(0, 1), (1, 1), (1, 2), (2, 2), (2, 3), (2, 4), (3, 4), (4, 4)]\n"
     ]
    }
   ],
   "source": [
    "import numpy as np\n",
    "import random\n",
    "\n",
    "class MazeEnvironment:\n",
    "    def __init__(self, maze_size):\n",
    "        self.maze_size = maze_size\n",
    "        self.maze = np.zeros(maze_size)\n",
    "        self.start = (0, 0)\n",
    "        self.goal = (maze_size[0] - 1, maze_size[1] - 1)\n",
    "        self.current_position = self.start\n",
    "        self.actions = [(1, 0), (-1, 0), (0, 1), (0, -1)]  # Down, Up, Right, Left\n",
    "        self.Q_values = np.zeros((maze_size[0], maze_size[1], len(self.actions)))\n",
    "\n",
    "    def take_action(self, action):\n",
    "        new_position = (self.current_position[0] + action[0], self.current_position[1] + action[1])\n",
    "        if 0 <= new_position[0] < self.maze_size[0] and 0 <= new_position[1] < self.maze_size[1]:\n",
    "            self.current_position = new_position\n",
    "\n",
    "    def get_reward(self):\n",
    "        if self.current_position == self.goal:\n",
    "            return 10\n",
    "        else:\n",
    "            return -1\n",
    "\n",
    "    def is_terminal(self):\n",
    "        return self.current_position == self.goal\n",
    "\n",
    "    def reset(self):\n",
    "        self.current_position = self.start\n",
    "\n",
    "def q_learning(env, num_episodes=1000, alpha=0.1, gamma=0.9, epsilon=0.1):\n",
    "    for episode in range(num_episodes):\n",
    "        env.reset()\n",
    "        while not env.is_terminal():\n",
    "            current_state = env.current_position\n",
    "            if random.uniform(0, 1) < epsilon:\n",
    "                action = random.choice(env.actions)\n",
    "            else:\n",
    "                action = env.actions[np.argmax(env.Q_values[current_state[0], current_state[1]])]\n",
    "\n",
    "            env.take_action(action)\n",
    "            reward = env.get_reward()\n",
    "            new_state = env.current_position\n",
    "            if not env.is_terminal():\n",
    "                max_future_q = np.max(env.Q_values[new_state[0], new_state[1]])\n",
    "                current_q = env.Q_values[current_state[0], current_state[1], env.actions.index(action)]\n",
    "                new_q = (1 - alpha) * current_q + alpha * (reward + gamma * max_future_q)\n",
    "                env.Q_values[current_state[0], current_state[1], env.actions.index(action)] = new_q\n",
    "            else:\n",
    "                env.Q_values[current_state[0], current_state[1], env.actions.index(action)] = reward\n",
    "    return env.Q_values\n",
    "\n",
    "# Define the maze size\n",
    "maze_size = (5, 5)\n",
    "\n",
    "# Create a maze environment\n",
    "maze_env = MazeEnvironment(maze_size)\n",
    "\n",
    "# Train the Q-learning agent\n",
    "trained_Q_values = q_learning(maze_env)\n",
    "\n",
    "# Test the trained agent (finding the path)\n",
    "path = []\n",
    "maze_env.reset()\n",
    "while not maze_env.is_terminal():\n",
    "    current_state = maze_env.current_position\n",
    "    action = maze_env.actions[np.argmax(trained_Q_values[current_state[0], current_state[1]])]\n",
    "    maze_env.take_action(action)\n",
    "    path.append(maze_env.current_position)\n",
    "\n",
    "print(\"Path taken by the agent:\", path)\n"
   ]
  },
  {
   "cell_type": "code",
   "execution_count": null,
   "id": "f04bc00f",
   "metadata": {},
   "outputs": [],
   "source": []
  }
 ],
 "metadata": {
  "kernelspec": {
   "display_name": "Python 3 (ipykernel)",
   "language": "python",
   "name": "python3"
  },
  "language_info": {
   "codemirror_mode": {
    "name": "ipython",
    "version": 3
   },
   "file_extension": ".py",
   "mimetype": "text/x-python",
   "name": "python",
   "nbconvert_exporter": "python",
   "pygments_lexer": "ipython3",
   "version": "3.10.9"
  }
 },
 "nbformat": 4,
 "nbformat_minor": 5
}
